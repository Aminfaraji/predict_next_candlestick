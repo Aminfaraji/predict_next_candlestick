{
  "cells": [
    {
      "cell_type": "markdown",
      "metadata": {
        "id": "view-in-github",
        "colab_type": "text"
      },
      "source": [
        "<a href=\"https://colab.research.google.com/github/Aminfaraji/predict_next_candlestick/blob/main/predict_next_candlestick.ipynb\" target=\"_parent\"><img src=\"https://colab.research.google.com/assets/colab-badge.svg\" alt=\"Open In Colab\"/></a>"
      ]
    },
    {
      "cell_type": "code",
      "execution_count": 22,
      "id": "4b8f1bd0-a660-4dfa-9a25-648a4a5e2dd9",
      "metadata": {
        "id": "4b8f1bd0-a660-4dfa-9a25-648a4a5e2dd9"
      },
      "outputs": [],
      "source": [
        "import os\n",
        "from glob import glob\n",
        "import argparse\n",
        "import cv2\n",
        "import tensorflow as tf\n",
        "import numpy as np\n",
        "import pandas as pd\n",
        "import csv\n",
        "from sklearn.preprocessing import MinMaxScaler\n",
        "from sklearn.model_selection import train_test_split\n",
        "import mplfinance as mplf"
      ]
    },
    {
      "cell_type": "code",
      "source": [
        "# !pip install mplfinance"
      ],
      "metadata": {
        "id": "OVoKbsHEOdvB"
      },
      "id": "OVoKbsHEOdvB",
      "execution_count": null,
      "outputs": []
    },
    {
      "cell_type": "code",
      "execution_count": 2,
      "id": "29051b20-b8d2-48d7-af82-e4469b78c6b0",
      "metadata": {
        "id": "29051b20-b8d2-48d7-af82-e4469b78c6b0"
      },
      "outputs": [],
      "source": [
        "def windows_dataset(series,windows_size,buffer_size,batch_size):\n",
        "    ds=tf.expand_dims(series,axis=-1)\n",
        "    ds=tf.data.Dataset.from_tensor_slices(series)\n",
        "    ds=ds.window(windows_size+1,shift=1,drop_remainder=True)\n",
        "    ds=ds.flat_map(lambda w:w.batch(windows_size+1))\n",
        "    ds=ds.shuffle(buffer_size)\n",
        "    ds=ds.map(lambda w:(w[:-1],w[-1:]))\n",
        "    ds=ds.batch(batch_size)\n",
        "    return ds"
      ]
    },
    {
      "cell_type": "code",
      "execution_count": 8,
      "id": "ba5e7e9b-8b60-424d-a621-15ad015fad71",
      "metadata": {
        "id": "ba5e7e9b-8b60-424d-a621-15ad015fad71"
      },
      "outputs": [],
      "source": [
        "data=pd.read_csv('EURUSD15_1.csv',delimiter='\\t',header=None,index_col=0)\n",
        "data=pd.DataFrame(data.values,columns=[\"Open\",\"High\",\"Low\",\"Close\",\"Volume\"]).drop(\"Volume\",axis=1)\n",
        "# data"
      ]
    },
    {
      "cell_type": "code",
      "execution_count": null,
      "id": "3163178c-5f14-4c87-91e3-82ace352b703",
      "metadata": {
        "id": "3163178c-5f14-4c87-91e3-82ace352b703"
      },
      "outputs": [],
      "source": [
        "# scale=MinMaxScaler()\n",
        "# dataset_normalize=scale.fit_transform(dataset)"
      ]
    },
    {
      "cell_type": "code",
      "execution_count": 13,
      "id": "73f06bf2-69ec-438e-970f-84b5c15dbde5",
      "metadata": {
        "id": "73f06bf2-69ec-438e-970f-84b5c15dbde5"
      },
      "outputs": [],
      "source": [
        "train_split=80000\n",
        "train,test=train_test_split(data,test_size=.2,shuffle=False)"
      ]
    },
    {
      "cell_type": "code",
      "execution_count": 14,
      "id": "95b9e6a4-6267-4e96-9b30-ac662e480ba4",
      "metadata": {
        "id": "95b9e6a4-6267-4e96-9b30-ac662e480ba4"
      },
      "outputs": [],
      "source": [
        "train_wind=windows_dataset(train,30,train_split,1)\n",
        "test_wind=windows_dataset(test,30,20000,1)"
      ]
    },
    {
      "cell_type": "code",
      "execution_count": 9,
      "id": "d74f1d84-5fcd-4bd9-8031-3f9375ddc710",
      "metadata": {
        "id": "d74f1d84-5fcd-4bd9-8031-3f9375ddc710"
      },
      "outputs": [],
      "source": [
        "# inp=tf.keras.Input((None,5))\n",
        "# x=tf.keras.layers.Conv1D(64,3,activation='relu')(inp)\n",
        "# x=tf.keras.layers.LSTM(64)(x)\n",
        "# x=tf.keras.layers.LSTM(64,activation='relu',return_sequences=True)(x)\n",
        "# x=tf.keras.layers.LSTM(64,activation='relu',return_sequences=True)(x)\n",
        "# x=tf.keras.layers.Dense(32,activation='relu')(x)\n",
        "# x=tf.keras.layers.Dense(32,activation='relu')(x)\n",
        "# out=tf.keras.layers.Dense(5)(x)\n",
        "# model=tf.keras.Model(inputs=inp,outputs=out)\n",
        "# model.summary()\n",
        "model=tf.keras.Sequential([\n",
        "    tf.keras.layers.Conv1D(64,3,padding='causal',activation=\"relu\",kernel_initializer='he_normal',input_shape=(None,4)),\n",
        "    tf.keras.layers.Conv1D(64,3,padding='causal',activation=\"relu\",kernel_initializer='he_normal'),\n",
        "    tf.keras.layers.LSTM(64,return_sequences=True),\n",
        "    tf.keras.layers.LSTM(64,return_sequences=True),\n",
        "    tf.keras.layers.LSTM(10),\n",
        "    tf.keras.layers.Dense(4,activation='linear')\n",
        "    # tf.keras.layers.Lambda(lambda x : x*100)\n",
        "])"
      ]
    },
    {
      "cell_type": "code",
      "execution_count": 16,
      "id": "058fc64b-8334-491b-841d-001b9e278586",
      "metadata": {
        "id": "058fc64b-8334-491b-841d-001b9e278586"
      },
      "outputs": [],
      "source": [
        "# lr_schedule=tf.keras.callbacks.LearningRateScheduler(\n",
        "#     lambda epoch : 1e-6*10**(epoch/20)\n",
        "# )\n",
        "optim=tf.keras.optimizers.SGD(learning_rate=1.5e-6,momentum=.9)\n",
        "model.compile(optim,loss=tf.keras.losses.Huber(),metrics=['mae'])\n",
        "# hist=model.fit(train_wind,epochs=5,callbacks=[lr_schedule])"
      ]
    },
    {
      "cell_type": "code",
      "source": [
        "# Include the epoch in the file name (uses `str.format`)\n",
        "checkpoint_path = \"/content/drive/MyDrive/predict_candlestick/cp-{epoch:04d}.ckpt\"\n",
        "checkpoint_dir = os.path.dirname(checkpoint_path)\n",
        "\n",
        "batch_size = 1\n",
        "\n",
        "# Calculate the number of batches per epoch\n",
        "import math\n",
        "n_batches = train_split / batch_size\n",
        "n_batches = math.ceil(n_batches)    # round up the number of batches to the nearest whole integer\n",
        "\n",
        "# Create a callback that saves the model's weights every 5 epochs\n",
        "cp_callback = tf.keras.callbacks.ModelCheckpoint(\n",
        "    filepath=checkpoint_path,\n",
        "    verbose=1,\n",
        "    save_weights_only=True,\n",
        "    save_freq=2*n_batches)\n",
        "\n",
        "# Create a new model instance\n",
        "# model = create_model()\n",
        "\n",
        "# Save the weights using the `checkpoint_path` format\n",
        "model.save_weights(checkpoint_path.format(epoch=0))\n",
        "\n",
        "# Train the model with the new callback\n",
        "model.fit(train_wind,\n",
        "          epochs=20,\n",
        "          callbacks=[cp_callback],\n",
        "          validation_data=test_wind,\n",
        "          verbose=1)"
      ],
      "metadata": {
        "colab": {
          "base_uri": "https://localhost:8080/"
        },
        "id": "CDjhKuxY3y1r",
        "outputId": "590bf942-03a7-4db9-f73d-0617e5d88492"
      },
      "id": "CDjhKuxY3y1r",
      "execution_count": null,
      "outputs": [
        {
          "output_type": "stream",
          "name": "stdout",
          "text": [
            "Epoch 1/20\n",
            "79970/79970 [==============================] - 850s 11ms/step - loss: 0.0020 - mae: 0.0536 - val_loss: 8.4092e-04 - val_mae: 0.0379\n",
            "Epoch 2/20\n",
            "79970/79970 [==============================] - 894s 11ms/step - loss: 0.0020 - mae: 0.0535 - val_loss: 8.3529e-04 - val_mae: 0.0378\n",
            "Epoch 3/20\n",
            "   55/79970 [..............................] - ETA: 12:03 - loss: 0.0020 - mae: 0.0544\n",
            "Epoch 3: saving model to /content/drive/MyDrive/predict_candlestick/cp-0003.ckpt\n",
            "79970/79970 [==============================] - 904s 11ms/step - loss: 0.0020 - mae: 0.0534 - val_loss: 8.3397e-04 - val_mae: 0.0377\n",
            "Epoch 4/20\n",
            "79970/79970 [==============================] - 886s 11ms/step - loss: 0.0020 - mae: 0.0533 - val_loss: 8.2513e-04 - val_mae: 0.0375\n",
            "Epoch 5/20\n",
            "  118/79970 [..............................] - ETA: 13:29 - loss: 0.0020 - mae: 0.0525\n",
            "Epoch 5: saving model to /content/drive/MyDrive/predict_candlestick/cp-0005.ckpt\n",
            "79970/79970 [==============================] - 861s 11ms/step - loss: 0.0020 - mae: 0.0533 - val_loss: 8.2369e-04 - val_mae: 0.0375\n",
            "Epoch 6/20\n",
            "34074/79970 [===========>..................] - ETA: 7:24 - loss: 0.0020 - mae: 0.0531"
          ]
        }
      ]
    },
    {
      "cell_type": "code",
      "source": [
        "from google.colab import drive\n",
        "drive.mount('/content/drive')"
      ],
      "metadata": {
        "colab": {
          "base_uri": "https://localhost:8080/"
        },
        "id": "F91lgbkA33Kh",
        "outputId": "900ed20e-b47c-45d8-ed39-c7a0db1ee4e1"
      },
      "id": "F91lgbkA33Kh",
      "execution_count": 3,
      "outputs": [
        {
          "output_type": "stream",
          "name": "stdout",
          "text": [
            "Mounted at /content/drive\n"
          ]
        }
      ]
    },
    {
      "cell_type": "code",
      "source": [
        "last=tf.train.latest_checkpoint('/content/drive/MyDrive/predict_candlestick')\n",
        "last"
      ],
      "metadata": {
        "colab": {
          "base_uri": "https://localhost:8080/",
          "height": 35
        },
        "id": "p91agSO1qYcd",
        "outputId": "7dbcd5f8-fefd-4ab5-853e-f804a55c6e0c"
      },
      "id": "p91agSO1qYcd",
      "execution_count": 11,
      "outputs": [
        {
          "output_type": "execute_result",
          "data": {
            "text/plain": [
              "'/content/drive/MyDrive/predict_candlestick/cp-0005.ckpt'"
            ],
            "application/vnd.google.colaboratory.intrinsic+json": {
              "type": "string"
            }
          },
          "metadata": {},
          "execution_count": 11
        }
      ]
    },
    {
      "cell_type": "code",
      "source": [
        "# model.load_weights(last)\n",
        "tf.config.run_functions_eagerly(True)\n",
        "model.evaluate(test_wind)"
      ],
      "metadata": {
        "colab": {
          "base_uri": "https://localhost:8080/"
        },
        "id": "QiSGhX6yDrFp",
        "outputId": "e469ce4f-58e8-4eab-b786-47d551bfbbe7"
      },
      "id": "QiSGhX6yDrFp",
      "execution_count": 19,
      "outputs": [
        {
          "output_type": "stream",
          "name": "stdout",
          "text": [
            "19970/19970 [==============================] - 656s 33ms/step - loss: 8.2408e-04 - mae: 0.0375\n"
          ]
        },
        {
          "output_type": "execute_result",
          "data": {
            "text/plain": [
              "[0.00082408293383196, 0.037480562925338745]"
            ]
          },
          "metadata": {},
          "execution_count": 19
        }
      ]
    },
    {
      "cell_type": "code",
      "source": [
        "a=test_wind.take(1)\n",
        "pred=model.predict(a)"
      ],
      "metadata": {
        "colab": {
          "base_uri": "https://localhost:8080/"
        },
        "id": "iBlGofvKEUys",
        "outputId": "691c4012-782a-46c1-9a65-6318e132b5cd"
      },
      "id": "iBlGofvKEUys",
      "execution_count": 62,
      "outputs": [
        {
          "output_type": "stream",
          "name": "stdout",
          "text": [
            "1/1 [==============================] - 2s 2s/step\n"
          ]
        }
      ]
    },
    {
      "cell_type": "code",
      "source": [
        "import pandas as pd\n",
        "import matplotlib.pyplot as plt\n",
        "\n",
        "def plot_candle(x_pd):\n",
        "  plt.figure()\n",
        "\n",
        "  x_pd=pd.DataFrame(x_pd,columns=['open','high','low','close'])\n",
        "  # \"up\" dataframe will store the stock_prices\n",
        "  # when the closing stock price is greater\n",
        "  # than or equal to the opening stock prices\n",
        "  up = x_pd[x_pd.close >= x_pd.open]\n",
        "\n",
        "  # \"down\" dataframe will store the stock_prices\n",
        "  # when the closing stock price is\n",
        "  # lesser than the opening stock prices\n",
        "  down = x_pd[x_pd.close < x_pd.open]\n",
        "\n",
        "  # When the stock prices have decreased, then it\n",
        "  # will be represented by blue color candlestick\n",
        "  col1 = 'blue'\n",
        "\n",
        "  # When the stock prices have increased, then it\n",
        "  # will be represented by green color candlestick\n",
        "  col2 = 'green'\n",
        "\n",
        "  # Setting width of candlestick elements\n",
        "  width = .3\n",
        "  width2 = .03\n",
        "\n",
        "  # Plotting up prices of the stock\n",
        "  plt.bar(up.index, up.close-up.open, width, bottom=up.open, color=col1)\n",
        "  plt.bar(up.index, up.high-up.close, width2, bottom=up.close, color=col1)\n",
        "  plt.bar(up.index, up.low-up.open, width2, bottom=up.open, color=col1)\n",
        "\n",
        "  # Plotting down prices of the stock\n",
        "  plt.bar(down.index, down.close-down.open, width, bottom=down.open, color=col2)\n",
        "  plt.bar(down.index, down.high-down.open, width2, bottom=down.open, color=col2)\n",
        "  plt.bar(down.index, down.low-down.close, width2, bottom=down.close, color=col2)\n",
        "\n",
        "  # rotating the x-axis tick labels at 30degree\n",
        "  # towards right\n",
        "  plt.xticks(rotation=30, ha='right')\n",
        "\n",
        "  # displaying candlestick chart of stock data\n",
        "  # of a week\n",
        "  plt.show()\n",
        "\n"
      ],
      "metadata": {
        "id": "RFVFkPNZUXPq"
      },
      "id": "RFVFkPNZUXPq",
      "execution_count": 54,
      "outputs": []
    },
    {
      "cell_type": "code",
      "source": [
        "x=list(a)[0][0].numpy()[0]\n",
        "y=list(a)[0][1].numpy()[0]"
      ],
      "metadata": {
        "id": "55Oj6W_YWMO8"
      },
      "id": "55Oj6W_YWMO8",
      "execution_count": 70,
      "outputs": []
    },
    {
      "cell_type": "code",
      "source": [
        "plot_candle(x)"
      ],
      "metadata": {
        "colab": {
          "base_uri": "https://localhost:8080/",
          "height": 437
        },
        "id": "9LTCmbMCU-ua",
        "outputId": "f8cd2442-c345-40ee-c973-5c17c8f5c250"
      },
      "id": "9LTCmbMCU-ua",
      "execution_count": 71,
      "outputs": [
        {
          "output_type": "display_data",
          "data": {
            "text/plain": [
              "<Figure size 640x480 with 1 Axes>"
            ],
            "image/png": "[encoded data removed]"
          },
          "metadata": {}
        }
      ]
    },
    {
      "cell_type": "code",
      "source": [
        "plot_candle(y)"
      ],
      "metadata": {
        "colab": {
          "base_uri": "https://localhost:8080/",
          "height": 449
        },
        "id": "7uwryhzROx3a",
        "outputId": "9a5a375f-4c3d-45db-d93f-7af72cd37f12"
      },
      "id": "7uwryhzROx3a",
      "execution_count": 72,
      "outputs": [
        {
          "output_type": "display_data",
          "data": {
            "text/plain": [
              "<Figure size 640x480 with 1 Axes>"
            ],
            "image/png": "[encoded data removed]"
          },
          "metadata": {}
        }
      ]
    },
    {
      "cell_type": "code",
      "source": [
        "plot_candle(pred)"
      ],
      "metadata": {
        "colab": {
          "base_uri": "https://localhost:8080/",
          "height": 449
        },
        "id": "PLFnvxQsVNWN",
        "outputId": "81613bb2-345c-4cc7-b42e-ca1588d0d30d"
      },
      "id": "PLFnvxQsVNWN",
      "execution_count": 73,
      "outputs": [
        {
          "output_type": "display_data",
          "data": {
            "text/plain": [
              "<Figure size 640x480 with 1 Axes>"
            ],
            "image/png": "[encoded data removed]"
          },
          "metadata": {}
        }
      ]
    },
    {
      "cell_type": "code",
      "source": [
        "tf.losses.mae(y,pred)"
      ],
      "metadata": {
        "colab": {
          "base_uri": "https://localhost:8080/"
        },
        "id": "6bw9sDn7V2a2",
        "outputId": "86338dde-b991-422a-98e4-92865adec106"
      },
      "id": "6bw9sDn7V2a2",
      "execution_count": 74,
      "outputs": [
        {
          "output_type": "execute_result",
          "data": {
            "text/plain": [
              "<tf.Tensor: shape=(1,), dtype=float32, numpy=array([0.03261864], dtype=float32)>"
            ]
          },
          "metadata": {},
          "execution_count": 74
        }
      ]
    },
    {
      "cell_type": "code",
      "source": [],
      "metadata": {
        "id": "SaaJnO1kXcky"
      },
      "id": "SaaJnO1kXcky",
      "execution_count": null,
      "outputs": []
    }
  ],
  "metadata": {
    "kernelspec": {
      "display_name": "Python 3",
      "name": "python3"
    },
    "language_info": {
      "codemirror_mode": {
        "name": "ipython",
        "version": 3
      },
      "file_extension": ".py",
      "mimetype": "text/x-python",
      "name": "python",
      "nbconvert_exporter": "python",
      "pygments_lexer": "ipython3",
      "version": "3.11.0"
    },
    "colab": {
      "provenance": [],
      "gpuType": "T4",
      "include_colab_link": true
    },
    "accelerator": "GPU"
  },
  "nbformat": 4,
  "nbformat_minor": 5
}